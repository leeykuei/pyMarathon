{
 "cells": [
  {
   "cell_type": "code",
   "execution_count": 3,
   "id": "crucial-slovakia",
   "metadata": {},
   "outputs": [],
   "source": [
    "import numpy as np"
   ]
  },
  {
   "cell_type": "code",
   "execution_count": 10,
   "id": "white-situation",
   "metadata": {},
   "outputs": [
    {
     "name": "stdout",
     "output_type": "stream",
     "text": [
      "a: [7 2 4]\n",
      "type(a): <class 'numpy.ndarray'>\n",
      "a.dtype: int32\n"
     ]
    }
   ],
   "source": [
    "#[簡答題] 請問 type(...) 跟 a.dtype 這兩個語法有什麼不同？\n",
    "a = np.random.randint(10, size=3)\n",
    "print('a:',a)\n",
    "print('type(a):',type(a))\n",
    "print('a.dtype:',a.dtype)\n",
    "#Ans: type(a) 是回傳 a 變數的型態；\n",
    "#a.dtype 是回傳 a 陣列中的元素型態。"
   ]
  },
  {
   "cell_type": "code",
   "execution_count": 27,
   "id": "vertical-interview",
   "metadata": {},
   "outputs": [
    {
     "name": "stdout",
     "output_type": "stream",
     "text": [
      "a: [7 2 4]\n",
      "True\n",
      "False\n",
      "True\n",
      "False\n"
     ]
    }
   ],
   "source": [
    "#請撰寫一個判斷 a 的元素是否等於指定資料型態的函式\n",
    "print('a:',a)\n",
    "print(a.dtype  == 'int32')\n",
    "print(a.dtype  is 'int32')\n",
    "print(a.dtype is np.dtype('int')) \n",
    "print(type(a) == np.dtype('int'))"
   ]
  },
  {
   "cell_type": "code",
   "execution_count": 28,
   "id": "cooperative-process",
   "metadata": {},
   "outputs": [],
   "source": [
    "#[簡答題] 承上題，請判斷下列三種寫法為何不正確？\n",
    " \n",
    "#Ans :type() 是檢查變數的型態，而不是元素的型態； is 相對 == 更嚴格，一定要型態正確才會回傳 True。\n",
    " "
   ]
  },
  {
   "cell_type": "code",
   "execution_count": null,
   "id": "utility-action",
   "metadata": {},
   "outputs": [],
   "source": []
  }
 ],
 "metadata": {
  "kernelspec": {
   "display_name": "Python 3",
   "language": "python",
   "name": "python3"
  },
  "language_info": {
   "codemirror_mode": {
    "name": "ipython",
    "version": 3
   },
   "file_extension": ".py",
   "mimetype": "text/x-python",
   "name": "python",
   "nbconvert_exporter": "python",
   "pygments_lexer": "ipython3",
   "version": "3.7.6"
  }
 },
 "nbformat": 4,
 "nbformat_minor": 5
}
