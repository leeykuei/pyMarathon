{
 "cells": [
  {
   "cell_type": "code",
   "execution_count": 1,
   "id": "thousand-finder",
   "metadata": {},
   "outputs": [
    {
     "data": {
      "text/plain": [
       "\"\\nname_list = ['小明','小華','小菁','小美','小張','John','Mark','Tom']\\nsex_list = ['boy','boy','girl','girl','boy','boy','boy','boy']\\nweight_list = [67.5,75.3,50.1,45.5,80.8,90.4,78.4,70.7]\\nrank_list = [8,1,5,4,7,6,2,3]\\nmyopia_list = [True,True,False,False,True,True,False,False]\\n\\n將上列list依照['name', 'sex', 'weight', 'rank', 'myopia']順序擺入array，並且資料型態順序擺入[Unicode,Unicode,float,int,boolean]\\n呈上題，將array中體重(weight)數據集取出算出全部平均體重\\n呈上題，進一步算出男生(sex欄位是boy)平均體重、女生(sex欄位是girl)平均體重\\n\""
      ]
     },
     "execution_count": 1,
     "metadata": {},
     "output_type": "execute_result"
    }
   ],
   "source": [
    "'''\n",
    "name_list = ['小明','小華','小菁','小美','小張','John','Mark','Tom']\n",
    "sex_list = ['boy','boy','girl','girl','boy','boy','boy','boy']\n",
    "weight_list = [67.5,75.3,50.1,45.5,80.8,90.4,78.4,70.7]\n",
    "rank_list = [8,1,5,4,7,6,2,3]\n",
    "myopia_list = [True,True,False,False,True,True,False,False]\n",
    "\n",
    "將上列list依照['name', 'sex', 'weight', 'rank', 'myopia']順序擺入array，並且資料型態順序擺入[Unicode,Unicode,float,int,boolean]\n",
    "呈上題，將array中體重(weight)數據集取出算出全部平均體重\n",
    "呈上題，進一步算出男生(sex欄位是boy)平均體重、女生(sex欄位是girl)平均體重\n",
    "'''"
   ]
  },
  {
   "cell_type": "code",
   "execution_count": 2,
   "id": "victorian-rings",
   "metadata": {},
   "outputs": [],
   "source": [
    "import numpy as np"
   ]
  },
  {
   "cell_type": "code",
   "execution_count": 3,
   "id": "assured-slope",
   "metadata": {},
   "outputs": [],
   "source": [
    "name_list = ['小明','小華','小菁','小美','小張','John','Mark','Tom']\n",
    "sex_list = ['boy','boy','girl','girl','boy','boy','boy','boy']\n",
    "weight_list = [67.5,75.3,50.1,45.5,80.8,90.4,78.4,70.7]\n",
    "rank_list = [8,1,5,4,7,6,2,3]\n",
    "myopia_list = [True,True,False,False,True,True,False,False]\n"
   ]
  },
  {
   "cell_type": "code",
   "execution_count": 4,
   "id": "young-outdoors",
   "metadata": {},
   "outputs": [],
   "source": [
    "#1. 將上列list依照['name', 'sex', 'weight', 'rank', 'myopia']順序擺入array，並且資料型態順序擺入[Unicode,Unicode,float,int,boolean]\n",
    "student_type = {'names':('name', 'sex', 'weight', 'rank', 'myopia'), 'formats':('U10','U6','f8','i4','?')}\n",
    "students = np.zeros(8,dtype=student_type)\n",
    "students['name'] = name_list\n",
    "students['sex'] = sex_list\n",
    "students['weight'] = weight_list\n",
    "students['rank'] = rank_list\n",
    "students['myopia'] = myopia_list"
   ]
  },
  {
   "cell_type": "code",
   "execution_count": 8,
   "id": "sacred-radar",
   "metadata": {},
   "outputs": [
    {
     "data": {
      "text/plain": [
       "array([('小明', 'boy', 67.5, 8,  True), ('小華', 'boy', 75.3, 1,  True),\n",
       "       ('小菁', 'girl', 50.1, 5, False), ('小美', 'girl', 45.5, 4, False),\n",
       "       ('小張', 'boy', 80.8, 7,  True), ('John', 'boy', 90.4, 6,  True),\n",
       "       ('Mark', 'boy', 78.4, 2, False), ('Tom', 'boy', 70.7, 3, False)],\n",
       "      dtype=[('name', '<U10'), ('sex', '<U6'), ('weight', '<f8'), ('rank', '<i4'), ('myopia', '?')])"
      ]
     },
     "execution_count": 8,
     "metadata": {},
     "output_type": "execute_result"
    }
   ],
   "source": [
    "students"
   ]
  },
  {
   "cell_type": "code",
   "execution_count": 10,
   "id": "hybrid-sphere",
   "metadata": {},
   "outputs": [
    {
     "name": "stdout",
     "output_type": "stream",
     "text": [
      "全部平均體重: 69.8375\n"
     ]
    }
   ],
   "source": [
    "#2. 呈上題，將array中體重(weight)數據集取出算出全部平均體重\n",
    "print('全部平均體重:',np.mean(students['weight']))"
   ]
  },
  {
   "cell_type": "code",
   "execution_count": 12,
   "id": "organized-fusion",
   "metadata": {},
   "outputs": [
    {
     "name": "stdout",
     "output_type": "stream",
     "text": [
      "男生平均體重: 77.18333333333332\n",
      "女生平均體重: 47.8\n"
     ]
    }
   ],
   "source": [
    "#呈上題，進一步算出男生(sex欄位是boy)平均體重、女生(sex欄位是girl)平均體重\n",
    "boy_index = np.where(students['sex']=='boy')[0]\n",
    "print('男生平均體重:',np.mean(students['weight'][boy_index]))\n",
    "girl_index = np.where(students['sex']=='girl')[0]\n",
    "print('女生平均體重:',np.mean(students['weight'][girl_index]))"
   ]
  },
  {
   "cell_type": "code",
   "execution_count": null,
   "id": "alternate-deputy",
   "metadata": {},
   "outputs": [],
   "source": []
  }
 ],
 "metadata": {
  "kernelspec": {
   "display_name": "Python 3",
   "language": "python",
   "name": "python3"
  },
  "language_info": {
   "codemirror_mode": {
    "name": "ipython",
    "version": 3
   },
   "file_extension": ".py",
   "mimetype": "text/x-python",
   "name": "python",
   "nbconvert_exporter": "python",
   "pygments_lexer": "ipython3",
   "version": "3.7.6"
  }
 },
 "nbformat": 4,
 "nbformat_minor": 5
}
