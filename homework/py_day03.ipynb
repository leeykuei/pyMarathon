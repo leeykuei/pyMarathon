{
 "cells": [
  {
   "cell_type": "code",
   "execution_count": 1,
   "metadata": {},
   "outputs": [],
   "source": [
    "import numpy as np"
   ]
  },
  {
   "cell_type": "code",
   "execution_count": 21,
   "metadata": {},
   "outputs": [
    {
     "name": "stdout",
     "output_type": "stream",
     "text": [
      "聲壓為 20000 upa是 : 60.0 分貝\n"
     ]
    }
   ],
   "source": [
    "#正常的談話的聲壓為 20000 微巴斯卡，請問多少分貝?\n",
    "Gdb = 20 * np.log10(20000/20)\n",
    "print('聲壓為 20000 upa是 : {} 分貝'.format(Gdb))"
   ]
  },
  {
   "cell_type": "code",
   "execution_count": 22,
   "metadata": {},
   "outputs": [
    {
     "name": "stdout",
     "output_type": "stream",
     "text": [
      "30 分貝的聲壓會是50分貝的聲壓的 : 0.09999999999999999 : 倍\n"
     ]
    }
   ],
   "source": [
    "#30 分貝的聲壓會是 50 分貝的幾倍?\n",
    "#---30分貝的聲壓 30 = 20log10(v30/20)=> 1.5 = log10(v30/20)\n",
    "v30 = np.power(10,1.5) * 20 \n",
    "#---50分貝的聲壓 50 = 20log10(v50/20)=> 2.5 = log10(v50/20)\n",
    "v50 = np.power(10,2.5) * 20\n",
    "## 求倍數\n",
    "ans = v30/v50\n",
    "print('30 分貝的聲壓會是50分貝的聲壓的 : {} : 倍'.format(ans))"
   ]
  },
  {
   "cell_type": "code",
   "execution_count": null,
   "metadata": {},
   "outputs": [],
   "source": []
  }
 ],
 "metadata": {
  "kernelspec": {
   "display_name": "Python 3",
   "language": "python",
   "name": "python3"
  },
  "language_info": {
   "codemirror_mode": {
    "name": "ipython",
    "version": 3
   },
   "file_extension": ".py",
   "mimetype": "text/x-python",
   "name": "python",
   "nbconvert_exporter": "python",
   "pygments_lexer": "ipython3",
   "version": "3.7.6"
  }
 },
 "nbformat": 4,
 "nbformat_minor": 4
}
