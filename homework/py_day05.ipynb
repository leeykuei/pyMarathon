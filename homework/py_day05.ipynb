{
 "cells": [
  {
   "cell_type": "code",
   "execution_count": 1,
   "metadata": {},
   "outputs": [],
   "source": [
    "import numpy as np"
   ]
  },
  {
   "cell_type": "code",
   "execution_count": 3,
   "metadata": {},
   "outputs": [],
   "source": [
    "#科目成績\n",
    "english_score = np.array([55,89,76,65,48,70])\n",
    "math_score = np.array([60,85,60,68,np.nan,60])\n",
    "chinese_score = np.array([65,90,82,72,66,77])"
   ]
  },
  {
   "cell_type": "code",
   "execution_count": 16,
   "metadata": {},
   "outputs": [
    {
     "name": "stdout",
     "output_type": "stream",
     "text": [
      "英文成績的平圴為: 67.16666666666667\n",
      "數學成績的平圴為: 66.6\n",
      "國文成績的平圴為: 75.33333333333333\n",
      "-----------------------------------\n",
      "英文成績的最高為: 89\n",
      "數學成績的最高為: 85.0\n",
      "國文成績的最高為: 90\n",
      "-----------------------------------\n",
      "英文成績的最低為: 48\n",
      "數學成績的最低為: 60.0\n",
      "國文成績的最低為: 65\n",
      "-----------------------------------\n",
      "英文成績的標準差為: 13.433995020924426\n",
      "數學成績的標準差為: 9.707728879609279\n",
      "國文成績的標準差為: 8.825468196582484\n"
     ]
    }
   ],
   "source": [
    "#請計算各科成績平均、最大值、最小值、標準差，其中數學缺一筆資料可忽略？\n",
    "print('英文成績的平圴為: {}'.format(np.nanmean(english_score)))\n",
    "print('數學成績的平圴為: {}'.format(np.nanmean(math_score)))\n",
    "print('國文成績的平圴為: {}'.format(np.nanmean(chinese_score)))\n",
    "print('-----------------------------------')\n",
    "print('英文成績的最高為: {}'.format(np.nanmax(english_score)))\n",
    "print('數學成績的最高為: {}'.format(np.nanmax(math_score)))\n",
    "print('國文成績的最高為: {}'.format(np.nanmax(chinese_score)))\n",
    "print('-----------------------------------')\n",
    "print('英文成績的最低為: {}'.format(np.nanmin(english_score)))\n",
    "print('數學成績的最低為: {}'.format(np.nanmin(math_score)))\n",
    "print('國文成績的最低為: {}'.format(np.nanmin(chinese_score)))\n",
    "print('-----------------------------------')\n",
    "print('英文成績的標準差為: {}'.format(np.nanstd(english_score)))\n",
    "print('數學成績的標準差為: {}'.format(np.nanstd(math_score)))\n",
    "print('國文成績的標準差為: {}'.format(np.nanstd(chinese_score)))"
   ]
  },
  {
   "cell_type": "code",
   "execution_count": 20,
   "metadata": {},
   "outputs": [
    {
     "name": "stdout",
     "output_type": "stream",
     "text": [
      "數學成績的平圴為: 64.66666666666667\n",
      "數學成績的最高為: 85\n",
      "數學成績的最低為: 55\n",
      "數學成績的標準差為: 9.860132971832694\n"
     ]
    }
   ],
   "source": [
    "#第五位同學補考數學後成績為 55，請計算補考後數學成績平均、最大值、最小值、標準差？\n",
    "math_score =  np.array([60,85,60,68,55,60])\n",
    "print('數學成績的平圴為: {}'.format(np.nanmean(math_score)))\n",
    "print('數學成績的最高為: {}'.format(np.nanmax(math_score)))\n",
    "print('數學成績的最低為: {}'.format(np.nanmin(math_score)))\n",
    "print('數學成績的標準差為: {}'.format(np.nanstd(math_score)))"
   ]
  },
  {
   "cell_type": "code",
   "execution_count": 29,
   "metadata": {},
   "outputs": [
    {
     "data": {
      "text/plain": [
       "array([[1.        , 0.74056803],\n",
       "       [0.74056803, 1.        ]])"
      ]
     },
     "execution_count": 29,
     "metadata": {},
     "output_type": "execute_result"
    }
   ],
   "source": [
    "#用補考後資料找出與國文成績相關係數最高的學科？\n",
    "#國文與數學的相關係數\n",
    "np.corrcoef(np.vstack((chinese_score,math_score)))\n"
   ]
  },
  {
   "cell_type": "code",
   "execution_count": 30,
   "metadata": {},
   "outputs": [
    {
     "data": {
      "text/plain": [
       "array([[1.        , 0.97792828],\n",
       "       [0.97792828, 1.        ]])"
      ]
     },
     "execution_count": 30,
     "metadata": {},
     "output_type": "execute_result"
    }
   ],
   "source": [
    "#國文與英文的相關係數\n",
    "np.corrcoef(np.vstack((chinese_score,english_score)))"
   ]
  },
  {
   "cell_type": "code",
   "execution_count": null,
   "metadata": {},
   "outputs": [],
   "source": []
  }
 ],
 "metadata": {
  "kernelspec": {
   "display_name": "Python 3",
   "language": "python",
   "name": "python3"
  },
  "language_info": {
   "codemirror_mode": {
    "name": "ipython",
    "version": 3
   },
   "file_extension": ".py",
   "mimetype": "text/x-python",
   "name": "python",
   "nbconvert_exporter": "python",
   "pygments_lexer": "ipython3",
   "version": "3.7.6"
  }
 },
 "nbformat": 4,
 "nbformat_minor": 4
}
