{
 "cells": [
  {
   "cell_type": "code",
   "execution_count": 27,
   "metadata": {},
   "outputs": [],
   "source": [
    "import numpy as np"
   ]
  },
  {
   "cell_type": "code",
   "execution_count": 28,
   "metadata": {},
   "outputs": [],
   "source": [
    "#科目成績\n",
    "english_score = np.array([55,89,76,65,48,70])\n",
    "math_score = np.array([60,85,60,68,55,60])\n",
    "chinese_score = np.array([65,90,82,72,66,77])"
   ]
  },
  {
   "cell_type": "code",
   "execution_count": 29,
   "metadata": {},
   "outputs": [
    {
     "name": "stdout",
     "output_type": "stream",
     "text": [
      "[False  True  True False False  True]\n",
      "3\n"
     ]
    }
   ],
   "source": [
    "#1.有多少學生英文成績比數學成績高?\n",
    "#Ans: 3位\n",
    "en_greater_ma = np.greater(english_score,math_score)\n",
    "print(en_greater_ma)\n",
    "print(np.sum(en_greater_ma))"
   ]
  },
  {
   "cell_type": "code",
   "execution_count": 30,
   "metadata": {},
   "outputs": [
    {
     "name": "stdout",
     "output_type": "stream",
     "text": [
      "[ True  True  True  True  True  True]\n",
      "True\n"
     ]
    }
   ],
   "source": [
    "#2.是否全班同學最高分都是國文?\n",
    "#Ans: 是\n",
    "ch_greater_ma = np.greater(chinese_score,math_score)\n",
    "ch_greater_en = np.greater(chinese_score,english_score)\n",
    "print(np.logical_and(ch_greater_ma,ch_greater_en))\n",
    "print(np.logical_and(ch_greater_ma,ch_greater_en).all())"
   ]
  },
  {
   "cell_type": "code",
   "execution_count": 31,
   "metadata": {},
   "outputs": [
    {
     "data": {
      "text/plain": [
       "array([ 1,  2, -3, -4, -5, -6,  7,  8,  9, 10, 11])"
      ]
     },
     "execution_count": 31,
     "metadata": {},
     "output_type": "execute_result"
    }
   ],
   "source": [
    "#產生一個 1-11 的一維陣列，並且把 3-6 由正數變成負數。\n",
    "A=np.arange(11) + 1\n",
    "A[(3<= A) & (A<=6) ] *= -1\n",
    "A\n"
   ]
  },
  {
   "cell_type": "code",
   "execution_count": 32,
   "metadata": {},
   "outputs": [
    {
     "data": {
      "text/plain": [
       "array([[0.58049888, 0.79466479, 0.72894851, 0.92802411, 0.14313982,\n",
       "        0.73114948, 0.99598434, 0.98552196, 0.08482937, 0.52040943],\n",
       "       [0.92646327, 0.5390551 , 0.87710749, 0.68290014, 0.65102811,\n",
       "        0.69324329, 0.80757582, 0.38164911, 0.82739378, 0.27328802]])"
      ]
     },
     "execution_count": 32,
     "metadata": {},
     "output_type": "execute_result"
    }
   ],
   "source": [
    "#2. 試著從一個隨機陣列中，找出比 0.5 大的數有幾個？\n",
    "B=np.random.rand(2,10)\n",
    "B"
   ]
  },
  {
   "cell_type": "code",
   "execution_count": 34,
   "metadata": {},
   "outputs": [
    {
     "data": {
      "text/plain": [
       "16"
      ]
     },
     "execution_count": 34,
     "metadata": {},
     "output_type": "execute_result"
    }
   ],
   "source": [
    "#ans:16\n",
    "B[0.5<B].size"
   ]
  },
  {
   "cell_type": "code",
   "execution_count": null,
   "metadata": {},
   "outputs": [],
   "source": []
  }
 ],
 "metadata": {
  "kernelspec": {
   "display_name": "Python 3",
   "language": "python",
   "name": "python3"
  },
  "language_info": {
   "codemirror_mode": {
    "name": "ipython",
    "version": 3
   },
   "file_extension": ".py",
   "mimetype": "text/x-python",
   "name": "python",
   "nbconvert_exporter": "python",
   "pygments_lexer": "ipython3",
   "version": "3.7.6"
  }
 },
 "nbformat": 4,
 "nbformat_minor": 4
}
