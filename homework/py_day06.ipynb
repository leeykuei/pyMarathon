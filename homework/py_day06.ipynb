{
 "cells": [
  {
   "cell_type": "code",
   "execution_count": 17,
   "metadata": {},
   "outputs": [],
   "source": [
    "import numpy as np\n",
    "\n",
    "#將下兩列 array 存成 npz 檔 array1 = np.array(range(30)) array2 = np.array([2,3,5])\n",
    "array1 = np.array(range(30))\n",
    "array2 = np.array([2,3,5])\n",
    "np.savez('multi_array.npz', array1, array2) "
   ]
  },
  {
   "cell_type": "code",
   "execution_count": 18,
   "metadata": {},
   "outputs": [
    {
     "name": "stdout",
     "output_type": "stream",
     "text": [
      "['arr_0', 'arr_1']\n"
     ]
    }
   ],
   "source": [
    "#讀取剛剛的npz檔，加入下列array一起存成新的npz檔array3 = np.array([[4,5,6],[1,2,3]])\n",
    "array3 = np.array([[4,5,6],[1,2,3]])\n",
    "npzfile = np.load('multi_array.npz')\n",
    "keys=npzfile.files\n",
    "print(keys)\n",
    "array1 = npzfile['arr_0']\n",
    "array2 = npzfile['arr_1']\n",
    "np.savez('new_multi_array.npz', array1, array2,array3) "
   ]
  },
  {
   "cell_type": "code",
   "execution_count": 19,
   "metadata": {},
   "outputs": [
    {
     "name": "stdout",
     "output_type": "stream",
     "text": [
      "['arr_0', 'arr_1', 'arr_2']\n"
     ]
    }
   ],
   "source": [
    "#驗證\n",
    "npzfile = np.load('new_multi_array.npz')\n",
    "keys=npzfile.files\n",
    "print(keys)"
   ]
  },
  {
   "cell_type": "code",
   "execution_count": 20,
   "metadata": {},
   "outputs": [
    {
     "data": {
      "text/plain": [
       "'\\nprint(a.sum()) \\nprint(np.sum(a))\\nprint(sum(a)) \\nAns:\\nsum() 是 python 內建的函式。np.sum(a) 跟 a.sum() 是陣列專有的函式。\\n'"
      ]
     },
     "execution_count": 20,
     "metadata": {},
     "output_type": "execute_result"
    }
   ],
   "source": [
    "#1. [簡答題] 請問下列這三種方法有什麼不同？\n",
    "\n",
    "'''\n",
    "print(a.sum()) \n",
    "print(np.sum(a))\n",
    "print(sum(a)) \n",
    "Ans:\n",
    "sum() 是 python 內建的函式。np.sum(a) 跟 a.sum() 是陣列專有的函式。\n",
    "'''\n"
   ]
  },
  {
   "cell_type": "code",
   "execution_count": 21,
   "metadata": {},
   "outputs": [
    {
     "data": {
      "text/plain": [
       "array([[0.40669034, 0.47993756, 0.59127882, 0.02769239, 0.39582233],\n",
       "       [0.3247855 , 0.93087137, 0.65711123, 0.87450958, 0.16401251],\n",
       "       [0.41448454, 0.47693372, 0.71719315, 0.11442596, 0.62502118],\n",
       "       [0.08355177, 0.09030815, 0.8527183 , 0.89985165, 0.97774436],\n",
       "       [0.41924478, 0.93675635, 0.0120962 , 0.72295629, 0.18659372]])"
      ]
     },
     "execution_count": 21,
     "metadata": {},
     "output_type": "execute_result"
    }
   ],
   "source": [
    "#2. 請對一個 5x5 的隨機矩陣作正規化的操作。\n",
    "A = np.random.random((5, 5))\n",
    "A"
   ]
  },
  {
   "cell_type": "code",
   "execution_count": 22,
   "metadata": {},
   "outputs": [
    {
     "data": {
      "text/plain": [
       "array([[0.40863138, 0.48448428, 0.59978638, 0.01615101, 0.39737676],\n",
       "       [0.32381287, 0.95145956, 0.66796071, 0.89309275, 0.15732056],\n",
       "       [0.41670285, 0.48137359, 0.73017998, 0.10597002, 0.63472909],\n",
       "       [0.07399752, 0.08099425, 0.87052628, 0.91933635, 1.        ],\n",
       "       [0.42163243, 0.95755389, 0.        , 0.73614813, 0.18070507]])"
      ]
     },
     "execution_count": 22,
     "metadata": {},
     "output_type": "execute_result"
    }
   ],
   "source": [
    "A = (A - A.min()) / (A.max() - A.min())\n",
    "A"
   ]
  },
  {
   "cell_type": "code",
   "execution_count": 23,
   "metadata": {},
   "outputs": [
    {
     "name": "stdout",
     "output_type": "stream",
     "text": [
      "[ 0.84995819 -1.          0.68975971  0.0618447   0.62153593  0.14332803\n",
      "  0.46945036  0.5888606   0.63119403  0.06666941  0.54864732  0.55011526]\n"
     ]
    }
   ],
   "source": [
    "#3. 請建立一個長度等於 10 的正整數向量，並且將其中的最大值改成 -1\n",
    "B = np.random.random(12)\n",
    "B[B.argmax()] = -1\n",
    "print (B)"
   ]
  },
  {
   "cell_type": "code",
   "execution_count": 24,
   "metadata": {},
   "outputs": [
    {
     "data": {
      "text/plain": [
       "array([ 0.84995819, -1.        ,  0.68975971,  0.0618447 ,  0.62153593,\n",
       "        0.14332803,  0.46945036,  0.5888606 ,  0.63119403,  0.06666941,\n",
       "        0.54864732,  0.55011526])"
      ]
     },
     "execution_count": 24,
     "metadata": {},
     "output_type": "execute_result"
    }
   ],
   "source": [
    "B"
   ]
  },
  {
   "cell_type": "code",
   "execution_count": null,
   "metadata": {},
   "outputs": [],
   "source": []
  },
  {
   "cell_type": "code",
   "execution_count": null,
   "metadata": {},
   "outputs": [],
   "source": []
  }
 ],
 "metadata": {
  "kernelspec": {
   "display_name": "Python 3",
   "language": "python",
   "name": "python3"
  },
  "language_info": {
   "codemirror_mode": {
    "name": "ipython",
    "version": 3
   },
   "file_extension": ".py",
   "mimetype": "text/x-python",
   "name": "python",
   "nbconvert_exporter": "python",
   "pygments_lexer": "ipython3",
   "version": "3.7.6"
  }
 },
 "nbformat": 4,
 "nbformat_minor": 4
}
