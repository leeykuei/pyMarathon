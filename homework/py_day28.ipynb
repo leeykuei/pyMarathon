{
 "cells": [
  {
   "cell_type": "code",
   "execution_count": 8,
   "id": "tribal-communication",
   "metadata": {},
   "outputs": [],
   "source": [
    "from scipy import stats\n",
    "import numpy as np"
   ]
  },
  {
   "cell_type": "code",
   "execution_count": 3,
   "id": "driven-divide",
   "metadata": {},
   "outputs": [],
   "source": [
    "# Q1: 大樂透的頭獎，你必須從49個挑選出 6 個號碼，且這六個號碼與頭獎的六個號碼一致，頭獎的機率是屬於哪一種分配\n",
    "#答:超幾何分配(抽出不取回 )"
   ]
  },
  {
   "cell_type": "code",
   "execution_count": 5,
   "id": "negative-inflation",
   "metadata": {},
   "outputs": [
    {
     "name": "stdout",
     "output_type": "stream",
     "text": [
      "中頭獎的機率為== 7.151123842018523e-08\n"
     ]
    }
   ],
   "source": [
    "#Q2: 運用範例的 python 程式碼，計算大樂透的中頭獎機率?\n",
    "'''\n",
    "X: HG(49,6,6)\n",
    "p(X=6) 的機率就是中頭獎的機率\n",
    "'''\n",
    "probs = stats.hypergeom.pmf(6,49,6,6)\n",
    "print(\"中頭獎的機率為==\",probs)"
   ]
  },
  {
   "cell_type": "code",
   "execution_count": 6,
   "id": "enhanced-monthly",
   "metadata": {},
   "outputs": [],
   "source": [
    "#Q3: 你覺得電腦簽注的中獎機率，和人腦簽注相比，哪一個機率高?\n",
    "#答:機率是一樣"
   ]
  }
 ],
 "metadata": {
  "kernelspec": {
   "display_name": "Python 3",
   "language": "python",
   "name": "python3"
  },
  "language_info": {
   "codemirror_mode": {
    "name": "ipython",
    "version": 3
   },
   "file_extension": ".py",
   "mimetype": "text/x-python",
   "name": "python",
   "nbconvert_exporter": "python",
   "pygments_lexer": "ipython3",
   "version": "3.7.6"
  }
 },
 "nbformat": 4,
 "nbformat_minor": 5
}
